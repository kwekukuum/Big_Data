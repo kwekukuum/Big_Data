{
  "nbformat": 4,
  "nbformat_minor": 0,
  "metadata": {
    "colab": {
      "provenance": [],
      "authorship_tag": "ABX9TyNwcIs98kCKBPMK22i+mnH3"
    },
    "kernelspec": {
      "name": "python3",
      "display_name": "Python 3"
    },
    "language_info": {
      "name": "python"
    }
  },
  "cells": [
    {
      "cell_type": "markdown",
      "source": [
        "REST API - Bestbuy API "
      ],
      "metadata": {
        "id": "EMfu1BERhqzc"
      }
    },
    {
      "cell_type": "code",
      "execution_count": 36,
      "metadata": {
        "id": "BZ3CT23ohpia"
      },
      "outputs": [],
      "source": [
        "import requests\n",
        "\n",
        "\n",
        "url = \"https://api.bestbuy.com/v1/products((search=macbook)&onSale=true&(categoryPath.id=abcat0502000))?apiKey=HSf3h88NwSNciftP8AGZB5rp&sort=salePrice.dsc&show=name,salePrice,mobileUrl,onSale&format=json\"\n",
        "data = requests.get(url)"
      ]
    },
    {
      "cell_type": "code",
      "source": [
        "from pprint import pprint\n",
        "print(data.status_code)\n",
        "data_format = data.json()\n",
        "pprint(data_format)\n"
      ],
      "metadata": {
        "colab": {
          "base_uri": "https://localhost:8080/"
        },
        "id": "GYAUquNzilD-",
        "outputId": "3cbbee43-04c9-4253-b976-0e12152e1450"
      },
      "execution_count": 37,
      "outputs": [
        {
          "output_type": "stream",
          "name": "stdout",
          "text": [
            "200\n",
            "{'canonicalUrl': '/v1/products((search=\"macbook\")&onSale=true&(categoryPath.id=abcat0502000))?show=name,salePrice,mobileUrl,onSale&sort=salePrice.desc&format=json&apiKey=HSf3h88NwSNciftP8AGZB5rp',\n",
            " 'currentPage': 1,\n",
            " 'from': 1,\n",
            " 'partial': False,\n",
            " 'products': [{'mobileUrl': 'https://api.bestbuy.com/click/-/6394273/pdp',\n",
            "               'name': 'Apple - MacBook Pro 16\" Display with Touch Bar - Intel '\n",
            "                       'Core i9 - 64GB Memory - 8TB SSD - Space Gray',\n",
            "               'onSale': True,\n",
            "               'salePrice': 4799.99},\n",
            "              {'mobileUrl': 'https://api.bestbuy.com/click/-/6450860/pdp',\n",
            "               'name': 'MacBook Pro 16\" Laptop - Apple M1 Max chip - 32GB '\n",
            "                       'Memory - 1TB SSD - Space Gray',\n",
            "               'onSale': True,\n",
            "               'salePrice': 2999.0},\n",
            "              {'mobileUrl': 'https://api.bestbuy.com/click/-/6450865/pdp',\n",
            "               'name': 'MacBook Pro 16\" Laptop - Apple M1 Max chip - 32GB '\n",
            "                       'Memory - 1TB SSD - Silver',\n",
            "               'onSale': True,\n",
            "               'salePrice': 2999.0},\n",
            "              {'mobileUrl': 'https://api.bestbuy.com/click/-/6450859/pdp',\n",
            "               'name': 'MacBook Pro 16\" Laptop - Apple M1 Pro chip - 16GB '\n",
            "                       'Memory - 1TB SSD - Space Gray',\n",
            "               'onSale': True,\n",
            "               'salePrice': 2299.0},\n",
            "              {'mobileUrl': 'https://api.bestbuy.com/click/-/6450854/pdp',\n",
            "               'name': 'MacBook Pro 14\" Laptop - Apple M1 Pro chip - 16GB '\n",
            "                       'Memory - 1TB SSD - Space Gray',\n",
            "               'onSale': True,\n",
            "               'salePrice': 2199.0},\n",
            "              {'mobileUrl': 'https://api.bestbuy.com/click/-/6450857/pdp',\n",
            "               'name': 'MacBook Pro 14\" Laptop - Apple M1 Pro chip - 16GB '\n",
            "                       'Memory - 1TB SSD - Silver',\n",
            "               'onSale': True,\n",
            "               'salePrice': 2199.0},\n",
            "              {'mobileUrl': 'https://api.bestbuy.com/click/-/6489620/pdp',\n",
            "               'name': 'Apple - Geek Squad Certified Refurbished MacBook Pro - '\n",
            "                       '16\" Display- Intel Core i9- 16GB Memory- AMD Radeon '\n",
            "                       'Pro 5500M - 1TB SSD - Silver',\n",
            "               'onSale': True,\n",
            "               'salePrice': 2129.99},\n",
            "              {'mobileUrl': 'https://api.bestbuy.com/click/-/6450858/pdp',\n",
            "               'name': 'MacBook Pro 16\" Laptop - Apple M1 Pro chip - 16GB '\n",
            "                       'Memory - 512GB SSD - Space Gray',\n",
            "               'onSale': True,\n",
            "               'salePrice': 2099.0},\n",
            "              {'mobileUrl': 'https://api.bestbuy.com/click/-/6450861/pdp',\n",
            "               'name': 'MacBook Pro 16\" Laptop - Apple M1 Pro chip - 16GB '\n",
            "                       'Memory - 512GB SSD - Silver',\n",
            "               'onSale': True,\n",
            "               'salePrice': 2099.0},\n",
            "              {'mobileUrl': 'https://api.bestbuy.com/click/-/6363223/pdp',\n",
            "               'name': 'Apple - MacBook Pro - 13\" Display with Touch Bar - '\n",
            "                       'Intel Core i7 - 16GB Memory - 256GB SSD - Space Gray',\n",
            "               'onSale': True,\n",
            "               'salePrice': 1839.99}],\n",
            " 'queryTime': '0.016',\n",
            " 'to': 10,\n",
            " 'total': 82,\n",
            " 'totalPages': 9,\n",
            " 'totalTime': '0.030'}\n"
          ]
        }
      ]
    },
    {
      "cell_type": "code",
      "source": [
        "#save a query of key value pair of the 3rd product in the json file\n",
        "filtered_data = data_format['products'][2]['name']"
      ],
      "metadata": {
        "id": "NNiS6F4mR2Ew"
      },
      "execution_count": 24,
      "outputs": []
    },
    {
      "cell_type": "code",
      "source": [
        "print(filtered_data)"
      ],
      "metadata": {
        "colab": {
          "base_uri": "https://localhost:8080/"
        },
        "id": "MNItXLtq0S6P",
        "outputId": "fd873a24-7883-45f5-92d8-192f681f08ad"
      },
      "execution_count": 25,
      "outputs": [
        {
          "output_type": "stream",
          "name": "stdout",
          "text": [
            "MacBook Pro 16\" Laptop - Apple M1 Max chip - 32GB Memory - 1TB SSD - Silver\n"
          ]
        }
      ]
    },
    {
      "cell_type": "code",
      "source": [
        "#loop through all items to produce product nane and corresponding price\n",
        "for product in data_format['products']:\n",
        "  print(product['name'], product['salePrice'])"
      ],
      "metadata": {
        "colab": {
          "base_uri": "https://localhost:8080/"
        },
        "id": "uGlRBIz_6ZJ0",
        "outputId": "32f0f242-f93b-4a54-dc43-f3b04619c236"
      },
      "execution_count": 33,
      "outputs": [
        {
          "output_type": "stream",
          "name": "stdout",
          "text": [
            "Apple - MacBook Pro 16\" Display with Touch Bar - Intel Core i9 - 64GB Memory - 8TB SSD - Space Gray 4799.99\n",
            "MacBook Pro 16\" Laptop - Apple M1 Max chip - 32GB Memory - 1TB SSD - Space Gray 2999.0\n",
            "MacBook Pro 16\" Laptop - Apple M1 Max chip - 32GB Memory - 1TB SSD - Silver 2999.0\n",
            "MacBook Pro 16\" Laptop - Apple M1 Pro chip - 16GB Memory - 1TB SSD - Space Gray 2299.0\n",
            "MacBook Pro 14\" Laptop - Apple M1 Pro chip - 16GB Memory - 1TB SSD - Space Gray 2199.0\n",
            "MacBook Pro 14\" Laptop - Apple M1 Pro chip - 16GB Memory - 1TB SSD - Silver 2199.0\n",
            "Apple - Geek Squad Certified Refurbished MacBook Pro - 16\" Display- Intel Core i9- 16GB Memory- AMD Radeon Pro 5500M - 1TB SSD - Silver 2129.99\n",
            "MacBook Pro 16\" Laptop - Apple M1 Pro chip - 16GB Memory - 512GB SSD - Space Gray 2099.0\n",
            "MacBook Pro 16\" Laptop - Apple M1 Pro chip - 16GB Memory - 512GB SSD - Silver 2099.0\n",
            "Apple - MacBook Pro - 13\" Display with Touch Bar - Intel Core i7 - 16GB Memory - 256GB SSD - Space Gray 1839.99\n"
          ]
        }
      ]
    },
    {
      "cell_type": "code",
      "source": [
        "#write json data to file\n",
        "import json\n",
        "json_object = json.dumps(data_format, indent = 4)\n",
        "\n",
        "with open(\"group7_file.json\", \"w\") as outfile:\n",
        "  outfile.write(json_object)"
      ],
      "metadata": {
        "id": "CDvqYkFa22CD"
      },
      "execution_count": 39,
      "outputs": []
    },
    {
      "cell_type": "code",
      "source": [
        "print(type(data_format))\n",
        "print(type(json_object))"
      ],
      "metadata": {
        "colab": {
          "base_uri": "https://localhost:8080/"
        },
        "id": "y42Z62SAHfKk",
        "outputId": "8899c131-504f-49fa-ea1d-11234ce2c986"
      },
      "execution_count": 34,
      "outputs": [
        {
          "output_type": "stream",
          "name": "stdout",
          "text": [
            "<class 'dict'>\n",
            "<class 'str'>\n"
          ]
        }
      ]
    }
  ]
}